{
 "cells": [
  {
   "cell_type": "code",
   "execution_count": 1,
   "metadata": {},
   "outputs": [
    {
     "name": "stderr",
     "output_type": "stream",
     "text": [
      "100%|██████████| 1750/1750 [00:09<00:00, 180.13it/s]\n",
      "  1%|          | 18/1750 [00:00<00:10, 166.92it/s]"
     ]
    },
    {
     "name": "stdout",
     "output_type": "stream",
     "text": [
      "[ -6.54296875 -19.890625   -11.0390625 ] [14.125     14.359375  11.5546875] [ 5.4975195  -1.4042721  -0.01596776]\n"
     ]
    },
    {
     "name": "stderr",
     "output_type": "stream",
     "text": [
      "100%|██████████| 1750/1750 [00:43<00:00, 40.51it/s]\n",
      "  0%|          | 0/1750 [00:00<?, ?it/s]"
     ]
    },
    {
     "name": "stdout",
     "output_type": "stream",
     "text": [
      "[-0.1550293  -0.13513184 -0.21398926] [1.39257812 0.92773438 4.34375   ] [0.11808214 0.15023994 0.29299212]\n"
     ]
    },
    {
     "name": "stderr",
     "output_type": "stream",
     "text": [
      "100%|██████████| 1750/1750 [23:17<00:00,  1.25it/s]\n",
      "  0%|          | 0/755 [00:00<?, ?it/s]"
     ]
    },
    {
     "name": "stdout",
     "output_type": "stream",
     "text": [
      "[-6.65625 -6.65625 -6.65625] [9.3828125 9.3828125 9.3828125] [0.43597558 0.43597558 0.43597558]\n"
     ]
    },
    {
     "name": "stderr",
     "output_type": "stream",
     "text": [
      "100%|██████████| 755/755 [41:56<00:00,  3.33s/it] \n",
      "  0%|          | 0/822 [00:00<?, ?it/s]"
     ]
    },
    {
     "name": "stdout",
     "output_type": "stream",
     "text": [
      "[-0.99267578 -0.99267578 -0.99267578] [1.03125 1.03125 1.03125] [-8.118737e-08 -8.118737e-08 -8.118737e-08]\n"
     ]
    },
    {
     "name": "stderr",
     "output_type": "stream",
     "text": [
      "100%|██████████| 822/822 [35:27<00:00,  2.59s/it] "
     ]
    },
    {
     "name": "stdout",
     "output_type": "stream",
     "text": [
      "[-0.58984375 -0.58984375 -0.58984375] [0.75097656 0.75097656 0.75097656] [-0.00026906 -0.00026906 -0.00026906]\n"
     ]
    },
    {
     "name": "stderr",
     "output_type": "stream",
     "text": [
      "\n"
     ]
    }
   ],
   "source": [
    "import glob\n",
    "import os\n",
    "import tqdm\n",
    "import numpy as np\n",
    "osp = os.path.join\n",
    "\n",
    "import cv2\n",
    "\n",
    "root_raw = \"/home/ICT2000/rli/mnt/vgldb1/LightStageFaceDB/Datasets/FaceEncoding/\"\n",
    "root_process = \"/home/ICT2000/rli/mnt/glab2/ForRuilong/FaceEncoding_process2/\"\n",
    "\n",
    "\n",
    "# raw 4k data: e.g. 20190521_Mark_29_0_pointcloud.exr\n",
    "pc = osp(root_process, \"256/PointCloud_Aligned/*.exr\")\n",
    "al = osp(root_process, \"256/DiffuseAlbedo/*.exr\")\n",
    "sp = osp(root_raw, \"SpecularUnlit/*.exr\")\n",
    "disp_high = osp(root_raw, \"Displacement_Separation_Exr/high/*.exr\")\n",
    "disp_low = osp(root_raw, \"Displacement_Separation_Exr/low/*.exr\")\n",
    "\n",
    "for pattern in [pc, al, sp, disp_high, disp_low]:\n",
    "    files = glob.glob(pattern)\n",
    "    _min = 99999; _max = -99999; _mean = 0\n",
    "    for file in tqdm.tqdm(files):\n",
    "        array = cv2.imread(file,  cv2.IMREAD_ANYCOLOR | cv2.IMREAD_ANYDEPTH)  \n",
    "        _min = np.minimum(_min, array.min(axis=0).min(axis=0))\n",
    "        _max = np.maximum(_max, array.max(axis=0).max(axis=0))\n",
    "        _mean += array.mean(axis=0).mean(axis=0) / len(files)\n",
    "        \n",
    "    print (_min, _max, _mean)"
   ]
  },
  {
   "cell_type": "code",
   "execution_count": null,
   "metadata": {},
   "outputs": [],
   "source": []
  },
  {
   "cell_type": "code",
   "execution_count": 1,
   "metadata": {},
   "outputs": [
    {
     "name": "stderr",
     "output_type": "stream",
     "text": [
      "100%|██████████| 1750/1750 [25:12<00:00,  1.16it/s]\n",
      "  0%|          | 0/1053 [00:00<?, ?it/s]"
     ]
    },
    {
     "name": "stdout",
     "output_type": "stream",
     "text": [
      "[0.1474461 0.1474461 0.1474461] [0.27835602 0.27835602 0.27835602]\n"
     ]
    },
    {
     "name": "stderr",
     "output_type": "stream",
     "text": [
      "100%|██████████| 1053/1053 [55:24<00:00,  3.16s/it] \n",
      "  0%|          | 0/1053 [00:00<?, ?it/s]"
     ]
    },
    {
     "name": "stdout",
     "output_type": "stream",
     "text": [
      "[-5.6566824e-07 -5.6566824e-07 -5.6566824e-07] [0.00336712 0.00336712 0.00336712]\n"
     ]
    },
    {
     "name": "stderr",
     "output_type": "stream",
     "text": [
      "100%|██████████| 1053/1053 [36:13<00:00,  2.06s/it]\n"
     ]
    },
    {
     "name": "stdout",
     "output_type": "stream",
     "text": [
      "[-0.00019921 -0.00019921 -0.00019921] [0.03625935 0.03625935 0.03625935]\n"
     ]
    }
   ],
   "source": [
    "import glob\n",
    "import os\n",
    "import tqdm\n",
    "import numpy as np\n",
    "osp = os.path.join\n",
    "\n",
    "import cv2\n",
    "\n",
    "root_raw = \"/home/ICT2000/rli/mnt/vgldb1/LightStageFaceDB/Datasets/FaceEncoding/\"\n",
    "root_process = \"/home/ICT2000/rli/mnt/glab2/ForRuilong/FaceEncoding_process2/\"\n",
    "\n",
    "\n",
    "# raw 4k data: e.g. 20190521_Mark_29_0_pointcloud.exr\n",
    "pc = osp(root_process, \"256/PointCloud_Aligned/*.exr\")\n",
    "al = osp(root_process, \"256/DiffuseAlbedo/*.exr\")\n",
    "sp = osp(root_raw, \"SpecularUnlit/*.exr\")\n",
    "disp_high = osp(root_raw, \"Displacement_Separation_Exr/high/*.exr\")\n",
    "disp_low = osp(root_raw, \"Displacement_Separation_Exr/low/*.exr\")\n",
    "\n",
    "mean_pointcloud = osp(root_raw, \"generic_neutral_pointcloud.exr\")\n",
    "mean_pointcloud = cv2.imread(mean_pointcloud,  cv2.IMREAD_ANYCOLOR | cv2.IMREAD_ANYDEPTH)  \n",
    "mean_pointcloud = cv2.resize(mean_pointcloud, (256, 256), interpolation=cv2.INTER_CUBIC)\n",
    "\n",
    "for pattern in [sp, disp_high, disp_low]:\n",
    "    files = glob.glob(pattern)\n",
    "    arrays = []\n",
    "    for file in tqdm.tqdm(files):\n",
    "        array = cv2.imread(file,  cv2.IMREAD_ANYCOLOR | cv2.IMREAD_ANYDEPTH)  \n",
    "        if \"SpecularUnlit\" in file:\n",
    "            array[array>1] = 1\n",
    "            array[array<0] = 0\n",
    "        if \"PointCloud\" in file:\n",
    "            array -= mean_pointcloud\n",
    "        array = cv2.resize(array, (256, 256), interpolation=cv2.INTER_CUBIC)\n",
    "        arrays.append(array)\n",
    "    arrays = np.array(arrays).reshape(-1, 3)\n",
    "    std = arrays.std(axis=0)\n",
    "    mean = arrays.mean(axis=0)\n",
    "    print (mean, std)"
   ]
  },
  {
   "cell_type": "code",
   "execution_count": null,
   "metadata": {},
   "outputs": [],
   "source": [
    "import torchvision \n",
    "# BGR using cv2.imread\n",
    "transform_pointcloud = torchvision.transforms.Normalize(\n",
    "    [0.04847965, -0.05158386, -0.01613889], [0.5475412, 0.50504845, 0.4042093]\n",
    ")\n",
    "transform_albedo = torchvision.transforms.Normalize(\n",
    "    [0.03996306, 0.07294353, 0.0922085], [0.07891982, 0.08981047, 0.1882349]\n",
    ")\n",
    "transform_specular = torchvision.transforms.Normalize(\n",
    "    [0.1474461 0.1474461 0.1474461], [0.27835602 0.27835602 0.27835602]\n",
    ")\n",
    "transform_disp_high = torchvision.transforms.Normalize(\n",
    "    [-5.6566824e-07 -5.6566824e-07 -5.6566824e-07], [0.00336712 0.00336712 0.00336712]\n",
    ")\n",
    "transform_disp_low = torchvision.transforms.Normalize(\n",
    "    [-0.00019921, -0.00019921, -0.00019921], [0.03625935, 0.03625935, 0.03625935]\n",
    ")\n"
   ]
  }
 ],
 "metadata": {
  "kernelspec": {
   "display_name": "Python [conda env:root] *",
   "language": "python",
   "name": "conda-root-py"
  },
  "language_info": {
   "codemirror_mode": {
    "name": "ipython",
    "version": 3
   },
   "file_extension": ".py",
   "mimetype": "text/x-python",
   "name": "python",
   "nbconvert_exporter": "python",
   "pygments_lexer": "ipython3",
   "version": "3.7.4"
  }
 },
 "nbformat": 4,
 "nbformat_minor": 4
}
